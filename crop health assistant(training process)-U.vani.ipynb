{
 "cells": [
  {
   "cell_type": "code",
   "execution_count": 1,
   "metadata": {},
   "outputs": [
    {
     "name": "stderr",
     "output_type": "stream",
     "text": [
      "Using TensorFlow backend.\n"
     ]
    }
   ],
   "source": [
    "import keras\n",
    "from keras.models import Sequential\n",
    "from keras.layers import Dense,Conv2D,MaxPooling2D,Flatten"
   ]
  },
  {
   "cell_type": "code",
   "execution_count": 2,
   "metadata": {},
   "outputs": [],
   "source": [
    "model_cnn=Sequential()"
   ]
  },
  {
   "cell_type": "code",
   "execution_count": 3,
   "metadata": {},
   "outputs": [
    {
     "name": "stderr",
     "output_type": "stream",
     "text": [
      "C:\\Users\\VANI\\Anaconda3\\lib\\site-packages\\ipykernel_launcher.py:1: UserWarning: Update your `Conv2D` call to the Keras 2 API: `Conv2D(32, (3, 3), input_shape=(64, 64, 3..., activation=\"relu\")`\n",
      "  \"\"\"Entry point for launching an IPython kernel.\n"
     ]
    },
    {
     "name": "stdout",
     "output_type": "stream",
     "text": [
      "WARNING:tensorflow:From C:\\Users\\VANI\\Anaconda3\\lib\\site-packages\\tensorflow\\python\\framework\\op_def_library.py:263: colocate_with (from tensorflow.python.framework.ops) is deprecated and will be removed in a future version.\n",
      "Instructions for updating:\n",
      "Colocations handled automatically by placer.\n"
     ]
    }
   ],
   "source": [
    "model_cnn.add(Conv2D(32,3,3,input_shape=(64,64,3),activation='relu'))"
   ]
  },
  {
   "cell_type": "code",
   "execution_count": 4,
   "metadata": {},
   "outputs": [],
   "source": [
    "model_cnn.add(MaxPooling2D(pool_size=(2,2)))"
   ]
  },
  {
   "cell_type": "code",
   "execution_count": 5,
   "metadata": {},
   "outputs": [],
   "source": [
    "model_cnn.add(Flatten())"
   ]
  },
  {
   "cell_type": "markdown",
   "metadata": {},
   "source": [
    "# hidden layer"
   ]
  },
  {
   "cell_type": "code",
   "execution_count": 6,
   "metadata": {},
   "outputs": [],
   "source": [
    "model_cnn.add(Dense(100,activation='relu'))"
   ]
  },
  {
   "cell_type": "markdown",
   "metadata": {},
   "source": [
    "# output layer"
   ]
  },
  {
   "cell_type": "code",
   "execution_count": 7,
   "metadata": {},
   "outputs": [],
   "source": [
    "model_cnn.add(Dense(6,activation='softmax'))"
   ]
  },
  {
   "cell_type": "markdown",
   "metadata": {},
   "source": [
    "# compile"
   ]
  },
  {
   "cell_type": "code",
   "execution_count": 8,
   "metadata": {},
   "outputs": [],
   "source": [
    "model_cnn.compile(optimizer='adam',loss='categorical_crossentropy',metrics=['accuracy'])"
   ]
  },
  {
   "cell_type": "code",
   "execution_count": 9,
   "metadata": {},
   "outputs": [],
   "source": [
    "from keras.preprocessing.image import ImageDataGenerator\n",
    "train_datagen=ImageDataGenerator(rescale=1./255,shear_range=0.2,zoom_range=0.2,horizontal_flip=True)"
   ]
  },
  {
   "cell_type": "code",
   "execution_count": 10,
   "metadata": {},
   "outputs": [],
   "source": [
    "test_datagen=ImageDataGenerator(rescale=1./255)"
   ]
  },
  {
   "cell_type": "code",
   "execution_count": 11,
   "metadata": {},
   "outputs": [
    {
     "name": "stdout",
     "output_type": "stream",
     "text": [
      "Found 493 images belonging to 6 classes.\n"
     ]
    }
   ],
   "source": [
    "x_train=train_datagen.flow_from_directory(r\"D:\\trainingset\",target_size=(64,64),batch_size=32,class_mode='categorical')"
   ]
  },
  {
   "cell_type": "code",
   "execution_count": 12,
   "metadata": {},
   "outputs": [
    {
     "name": "stdout",
     "output_type": "stream",
     "text": [
      "Found 116 images belonging to 6 classes.\n"
     ]
    }
   ],
   "source": [
    "x_test=test_datagen.flow_from_directory(r\"D:\\test set\",target_size=(64,64),batch_size=32,class_mode='categorical')"
   ]
  },
  {
   "cell_type": "code",
   "execution_count": 13,
   "metadata": {},
   "outputs": [
    {
     "data": {
      "text/plain": [
       "{'bacterial leaf blight': 0,\n",
       " 'blast': 1,\n",
       " 'false smut': 2,\n",
       " 'normal': 3,\n",
       " 'rice tungro': 4,\n",
       " 'sheath blight': 5}"
      ]
     },
     "execution_count": 13,
     "metadata": {},
     "output_type": "execute_result"
    }
   ],
   "source": [
    "x_train.class_indices"
   ]
  },
  {
   "cell_type": "code",
   "execution_count": 14,
   "metadata": {},
   "outputs": [
    {
     "data": {
      "text/plain": [
       "{'bacterial leaf blight': 0,\n",
       " 'blast': 1,\n",
       " 'false smut': 2,\n",
       " 'normal': 3,\n",
       " 'rice tungro': 4,\n",
       " 'sheath blight': 5}"
      ]
     },
     "execution_count": 14,
     "metadata": {},
     "output_type": "execute_result"
    }
   ],
   "source": [
    "x_test.class_indices"
   ]
  },
  {
   "cell_type": "code",
   "execution_count": 15,
   "metadata": {
    "scrolled": false
   },
   "outputs": [
    {
     "name": "stdout",
     "output_type": "stream",
     "text": [
      "WARNING:tensorflow:From C:\\Users\\VANI\\Anaconda3\\lib\\site-packages\\tensorflow\\python\\ops\\math_ops.py:3066: to_int32 (from tensorflow.python.ops.math_ops) is deprecated and will be removed in a future version.\n",
      "Instructions for updating:\n",
      "Use tf.cast instead.\n"
     ]
    },
    {
     "name": "stderr",
     "output_type": "stream",
     "text": [
      "C:\\Users\\VANI\\Anaconda3\\lib\\site-packages\\ipykernel_launcher.py:1: UserWarning: The semantics of the Keras 2 argument `steps_per_epoch` is not the same as the Keras 1 argument `samples_per_epoch`. `steps_per_epoch` is the number of batches to draw from the generator at each epoch. Basically steps_per_epoch = samples_per_epoch/batch_size. Similarly `nb_val_samples`->`validation_steps` and `val_samples`->`steps` arguments have changed. Update your method calls accordingly.\n",
      "  \"\"\"Entry point for launching an IPython kernel.\n",
      "C:\\Users\\VANI\\Anaconda3\\lib\\site-packages\\ipykernel_launcher.py:1: UserWarning: Update your `fit_generator` call to the Keras 2 API: `fit_generator(<keras_pre..., epochs=25, validation_data=<keras_pre..., steps_per_epoch=15, validation_steps=116)`\n",
      "  \"\"\"Entry point for launching an IPython kernel.\n"
     ]
    },
    {
     "name": "stdout",
     "output_type": "stream",
     "text": [
      "Epoch 1/25\n",
      "15/15 [==============================] - 80s 5s/step - loss: 2.1140 - acc: 0.1771 - val_loss: 1.9012 - val_acc: 0.1897\n",
      "Epoch 2/25\n",
      "15/15 [==============================] - 68s 5s/step - loss: 1.7163 - acc: 0.2668 - val_loss: 1.7687 - val_acc: 0.2155\n",
      "Epoch 3/25\n",
      "15/15 [==============================] - 68s 5s/step - loss: 1.6475 - acc: 0.3116 - val_loss: 1.8028 - val_acc: 0.2672\n",
      "Epoch 4/25\n",
      "15/15 [==============================] - 67s 4s/step - loss: 1.5653 - acc: 0.3581 - val_loss: 1.7077 - val_acc: 0.3190\n",
      "Epoch 5/25\n",
      "15/15 [==============================] - 68s 5s/step - loss: 1.5253 - acc: 0.4014 - val_loss: 1.8710 - val_acc: 0.2414\n",
      "Epoch 6/25\n",
      "15/15 [==============================] - 68s 5s/step - loss: 1.5065 - acc: 0.4096 - val_loss: 1.6058 - val_acc: 0.3276\n",
      "Epoch 7/25\n",
      "15/15 [==============================] - 68s 5s/step - loss: 1.3946 - acc: 0.4529 - val_loss: 1.6403 - val_acc: 0.2931\n",
      "Epoch 8/25\n",
      "15/15 [==============================] - 69s 5s/step - loss: 1.3856 - acc: 0.4753 - val_loss: 1.7651 - val_acc: 0.2672\n",
      "Epoch 9/25\n",
      "15/15 [==============================] - 69s 5s/step - loss: 1.3017 - acc: 0.5110 - val_loss: 1.5867 - val_acc: 0.3707\n",
      "Epoch 10/25\n",
      "15/15 [==============================] - 68s 5s/step - loss: 1.2867 - acc: 0.5032 - val_loss: 1.7675 - val_acc: 0.2931\n",
      "Epoch 11/25\n",
      "15/15 [==============================] - 68s 5s/step - loss: 1.2391 - acc: 0.5422 - val_loss: 1.6344 - val_acc: 0.3103\n",
      "Epoch 12/25\n",
      "15/15 [==============================] - 68s 5s/step - loss: 1.1507 - acc: 0.5855 - val_loss: 1.6086 - val_acc: 0.3017\n",
      "Epoch 13/25\n",
      "15/15 [==============================] - 67s 4s/step - loss: 1.1244 - acc: 0.6041 - val_loss: 1.7298 - val_acc: 0.3190\n",
      "Epoch 14/25\n",
      "15/15 [==============================] - 68s 5s/step - loss: 1.1314 - acc: 0.5873 - val_loss: 1.6832 - val_acc: 0.3707\n",
      "Epoch 15/25\n",
      "15/15 [==============================] - 68s 5s/step - loss: 1.0866 - acc: 0.5951 - val_loss: 1.7124 - val_acc: 0.3707\n",
      "Epoch 16/25\n",
      "15/15 [==============================] - 67s 4s/step - loss: 1.0062 - acc: 0.6521 - val_loss: 1.6417 - val_acc: 0.3362\n",
      "Epoch 17/25\n",
      "15/15 [==============================] - 68s 5s/step - loss: 1.0067 - acc: 0.6146 - val_loss: 1.7212 - val_acc: 0.3707\n",
      "Epoch 18/25\n",
      "15/15 [==============================] - 68s 5s/step - loss: 0.9088 - acc: 0.6844 - val_loss: 1.7269 - val_acc: 0.3966\n",
      "Epoch 19/25\n",
      "15/15 [==============================] - 68s 5s/step - loss: 0.8817 - acc: 0.7074 - val_loss: 1.8892 - val_acc: 0.4138\n",
      "Epoch 20/25\n",
      "15/15 [==============================] - 68s 5s/step - loss: 0.9152 - acc: 0.6648 - val_loss: 1.7822 - val_acc: 0.3621\n",
      "Epoch 21/25\n",
      "15/15 [==============================] - 68s 5s/step - loss: 0.8718 - acc: 0.7288 - val_loss: 1.6656 - val_acc: 0.4224\n",
      "Epoch 22/25\n",
      "15/15 [==============================] - 68s 5s/step - loss: 0.7813 - acc: 0.7567 - val_loss: 1.7733 - val_acc: 0.3707\n",
      "Epoch 23/25\n",
      "15/15 [==============================] - 68s 5s/step - loss: 0.7763 - acc: 0.7442 - val_loss: 1.7893 - val_acc: 0.3879\n",
      "Epoch 24/25\n",
      "15/15 [==============================] - 69s 5s/step - loss: 0.7277 - acc: 0.7526 - val_loss: 1.8715 - val_acc: 0.4224\n",
      "Epoch 25/25\n",
      "15/15 [==============================] - 68s 5s/step - loss: 0.6949 - acc: 0.7784 - val_loss: 1.8265 - val_acc: 0.3966\n"
     ]
    },
    {
     "data": {
      "text/plain": [
       "<keras.callbacks.History at 0x24a88b35cc0>"
      ]
     },
     "execution_count": 15,
     "metadata": {},
     "output_type": "execute_result"
    }
   ],
   "source": [
    "model_cnn.fit_generator(x_train,samples_per_epoch=493,epochs=25,validation_data=x_test,nb_val_samples=116)"
   ]
  },
  {
   "cell_type": "code",
   "execution_count": 16,
   "metadata": {},
   "outputs": [],
   "source": [
    "model_cnn.save(\"crop helath assistant.h5\")\n"
   ]
  },
  {
   "cell_type": "code",
   "execution_count": null,
   "metadata": {},
   "outputs": [],
   "source": []
  }
 ],
 "metadata": {
  "kernelspec": {
   "display_name": "Python 3",
   "language": "python",
   "name": "python3"
  },
  "language_info": {
   "codemirror_mode": {
    "name": "ipython",
    "version": 3
   },
   "file_extension": ".py",
   "mimetype": "text/x-python",
   "name": "python",
   "nbconvert_exporter": "python",
   "pygments_lexer": "ipython3",
   "version": "3.7.1"
  }
 },
 "nbformat": 4,
 "nbformat_minor": 2
}
